{
 "cells": [
  {
   "cell_type": "markdown",
   "id": "d3d3ac21-db30-4a28-b361-fafdf2757f1e",
   "metadata": {},
   "source": [
    "# Electric Vehicles Sales Analysis"
   ]
  },
  {
   "cell_type": "markdown",
   "id": "d778d362-dcf6-4491-93e4-d271e7e782c9",
   "metadata": {},
   "source": [
    "### Importing necessary libraries"
   ]
  },
  {
   "cell_type": "code",
   "execution_count": 1,
   "id": "377f1e6e-5950-4096-82ed-244cea05e247",
   "metadata": {},
   "outputs": [],
   "source": [
    "import numpy as np\n",
    "import pandas as pd\n",
    "import matplotlib.pyplot as plt\n",
    "import seaborn as sns\n",
    "import warnings\n",
    "warnings.filterwarnings('ignore')"
   ]
  },
  {
   "cell_type": "code",
   "execution_count": 21,
   "id": "b1c37bdf-058a-40d4-9519-7ccb827cc194",
   "metadata": {},
   "outputs": [],
   "source": [
    "#import dataset\n",
    "df = pd.read_csv(r'EV.csv')"
   ]
  },
  {
   "cell_type": "markdown",
   "id": "186124fd-2e4c-464e-864b-8927c52b6cf6",
   "metadata": {},
   "source": [
    "### Exploratory Data Analysis"
   ]
  },
  {
   "cell_type": "code",
   "execution_count": 22,
   "id": "598fcfed-dd80-45bb-83d1-c26d07f1ddc4",
   "metadata": {},
   "outputs": [
    {
     "data": {
      "text/html": [
       "<div>\n",
       "<style scoped>\n",
       "    .dataframe tbody tr th:only-of-type {\n",
       "        vertical-align: middle;\n",
       "    }\n",
       "\n",
       "    .dataframe tbody tr th {\n",
       "        vertical-align: top;\n",
       "    }\n",
       "\n",
       "    .dataframe thead th {\n",
       "        text-align: right;\n",
       "    }\n",
       "</style>\n",
       "<table border=\"1\" class=\"dataframe\">\n",
       "  <thead>\n",
       "    <tr style=\"text-align: right;\">\n",
       "      <th></th>\n",
       "      <th>Date</th>\n",
       "      <th>County</th>\n",
       "      <th>State</th>\n",
       "      <th>Vehicle Primary Use</th>\n",
       "      <th>Battery Electric Vehicles (BEVs)</th>\n",
       "      <th>Plug-In Hybrid Electric Vehicles (PHEVs)</th>\n",
       "      <th>Electric Vehicle (EV) Total</th>\n",
       "      <th>Non-Electric Vehicle Total</th>\n",
       "      <th>Total Vehicles</th>\n",
       "      <th>Percent Electric Vehicles</th>\n",
       "    </tr>\n",
       "  </thead>\n",
       "  <tbody>\n",
       "    <tr>\n",
       "      <th>0</th>\n",
       "      <td>September 30 2022</td>\n",
       "      <td>Riverside</td>\n",
       "      <td>CA</td>\n",
       "      <td>Passenger</td>\n",
       "      <td>7.0</td>\n",
       "      <td>0.0</td>\n",
       "      <td>7.0</td>\n",
       "      <td>460.0</td>\n",
       "      <td>467.0</td>\n",
       "      <td>1.50</td>\n",
       "    </tr>\n",
       "    <tr>\n",
       "      <th>1</th>\n",
       "      <td>December 31 2022</td>\n",
       "      <td>Prince William</td>\n",
       "      <td>VA</td>\n",
       "      <td>Passenger</td>\n",
       "      <td>1.0</td>\n",
       "      <td>2.0</td>\n",
       "      <td>3.0</td>\n",
       "      <td>188.0</td>\n",
       "      <td>191.0</td>\n",
       "      <td>1.57</td>\n",
       "    </tr>\n",
       "    <tr>\n",
       "      <th>2</th>\n",
       "      <td>January 31 2020</td>\n",
       "      <td>Dakota</td>\n",
       "      <td>MN</td>\n",
       "      <td>Passenger</td>\n",
       "      <td>0.0</td>\n",
       "      <td>1.0</td>\n",
       "      <td>1.0</td>\n",
       "      <td>32.0</td>\n",
       "      <td>33.0</td>\n",
       "      <td>3.03</td>\n",
       "    </tr>\n",
       "    <tr>\n",
       "      <th>3</th>\n",
       "      <td>June 30 2022</td>\n",
       "      <td>Ferry</td>\n",
       "      <td>WA</td>\n",
       "      <td>Truck</td>\n",
       "      <td>0.0</td>\n",
       "      <td>0.0</td>\n",
       "      <td>0.0</td>\n",
       "      <td>3575.0</td>\n",
       "      <td>3575.0</td>\n",
       "      <td>0.00</td>\n",
       "    </tr>\n",
       "    <tr>\n",
       "      <th>4</th>\n",
       "      <td>July 31 2021</td>\n",
       "      <td>Douglas</td>\n",
       "      <td>CO</td>\n",
       "      <td>Passenger</td>\n",
       "      <td>0.0</td>\n",
       "      <td>1.0</td>\n",
       "      <td>1.0</td>\n",
       "      <td>83.0</td>\n",
       "      <td>84.0</td>\n",
       "      <td>1.19</td>\n",
       "    </tr>\n",
       "  </tbody>\n",
       "</table>\n",
       "</div>"
      ],
      "text/plain": [
       "                Date          County State Vehicle Primary Use  \\\n",
       "0  September 30 2022       Riverside    CA           Passenger   \n",
       "1   December 31 2022  Prince William    VA           Passenger   \n",
       "2    January 31 2020          Dakota    MN           Passenger   \n",
       "3       June 30 2022           Ferry    WA               Truck   \n",
       "4       July 31 2021         Douglas    CO           Passenger   \n",
       "\n",
       "   Battery Electric Vehicles (BEVs)  Plug-In Hybrid Electric Vehicles (PHEVs)  \\\n",
       "0                               7.0                                       0.0   \n",
       "1                               1.0                                       2.0   \n",
       "2                               0.0                                       1.0   \n",
       "3                               0.0                                       0.0   \n",
       "4                               0.0                                       1.0   \n",
       "\n",
       "   Electric Vehicle (EV) Total  Non-Electric Vehicle Total  Total Vehicles  \\\n",
       "0                          7.0                       460.0           467.0   \n",
       "1                          3.0                       188.0           191.0   \n",
       "2                          1.0                        32.0            33.0   \n",
       "3                          0.0                      3575.0          3575.0   \n",
       "4                          1.0                        83.0            84.0   \n",
       "\n",
       "   Percent Electric Vehicles  \n",
       "0                       1.50  \n",
       "1                       1.57  \n",
       "2                       3.03  \n",
       "3                       0.00  \n",
       "4                       1.19  "
      ]
     },
     "execution_count": 22,
     "metadata": {},
     "output_type": "execute_result"
    }
   ],
   "source": [
    "#top 5 rows\n",
    "df.head()"
   ]
  },
  {
   "cell_type": "code",
   "execution_count": 23,
   "id": "3508193c-b87d-4905-a73f-cf19948ac2c6",
   "metadata": {},
   "outputs": [
    {
     "data": {
      "text/plain": [
       "(20819, 10)"
      ]
     },
     "execution_count": 23,
     "metadata": {},
     "output_type": "execute_result"
    }
   ],
   "source": [
    "#Size\n",
    "df.shape"
   ]
  },
  {
   "cell_type": "code",
   "execution_count": 24,
   "id": "e1e1a91b-e83c-4289-88a4-ecacc8dd7a53",
   "metadata": {},
   "outputs": [
    {
     "name": "stdout",
     "output_type": "stream",
     "text": [
      "<class 'pandas.core.frame.DataFrame'>\n",
      "RangeIndex: 20819 entries, 0 to 20818\n",
      "Data columns (total 10 columns):\n",
      " #   Column                                    Non-Null Count  Dtype  \n",
      "---  ------                                    --------------  -----  \n",
      " 0   Date                                      20819 non-null  object \n",
      " 1   County                                    20733 non-null  object \n",
      " 2   State                                     20733 non-null  object \n",
      " 3   Vehicle Primary Use                       20819 non-null  object \n",
      " 4   Battery Electric Vehicles (BEVs)          20819 non-null  float64\n",
      " 5   Plug-In Hybrid Electric Vehicles (PHEVs)  20819 non-null  float64\n",
      " 6   Electric Vehicle (EV) Total               20819 non-null  float64\n",
      " 7   Non-Electric Vehicle Total                20819 non-null  float64\n",
      " 8   Total Vehicles                            20819 non-null  float64\n",
      " 9   Percent Electric Vehicles                 20819 non-null  float64\n",
      "dtypes: float64(6), object(4)\n",
      "memory usage: 1.6+ MB\n"
     ]
    }
   ],
   "source": [
    "#Details\n",
    "df.info()"
   ]
  },
  {
   "cell_type": "code",
   "execution_count": 26,
   "id": "cfd07adc-f359-44a7-bf9f-c5aa096b2a09",
   "metadata": {},
   "outputs": [
    {
     "data": {
      "text/plain": [
       "Date                                         0\n",
       "County                                      86\n",
       "State                                       86\n",
       "Vehicle Primary Use                          0\n",
       "Battery Electric Vehicles (BEVs)             0\n",
       "Plug-In Hybrid Electric Vehicles (PHEVs)     0\n",
       "Electric Vehicle (EV) Total                  0\n",
       "Non-Electric Vehicle Total                   0\n",
       "Total Vehicles                               0\n",
       "Percent Electric Vehicles                    0\n",
       "dtype: int64"
      ]
     },
     "execution_count": 26,
     "metadata": {},
     "output_type": "execute_result"
    }
   ],
   "source": [
    "#null values\n",
    "df.isnull().sum()"
   ]
  },
  {
   "cell_type": "code",
   "execution_count": 27,
   "id": "b65a1989-5928-4d2f-9cf6-54f8c21f2ca6",
   "metadata": {},
   "outputs": [],
   "source": [
    "df.dropna(inplace = True)"
   ]
  },
  {
   "cell_type": "code",
   "execution_count": 28,
   "id": "2de841f7-7f3c-4798-9104-aa01abfa257f",
   "metadata": {},
   "outputs": [
    {
     "data": {
      "text/plain": [
       "Date                                        0\n",
       "County                                      0\n",
       "State                                       0\n",
       "Vehicle Primary Use                         0\n",
       "Battery Electric Vehicles (BEVs)            0\n",
       "Plug-In Hybrid Electric Vehicles (PHEVs)    0\n",
       "Electric Vehicle (EV) Total                 0\n",
       "Non-Electric Vehicle Total                  0\n",
       "Total Vehicles                              0\n",
       "Percent Electric Vehicles                   0\n",
       "dtype: int64"
      ]
     },
     "execution_count": 28,
     "metadata": {},
     "output_type": "execute_result"
    }
   ],
   "source": [
    "df.isnull().sum()"
   ]
  },
  {
   "cell_type": "code",
   "execution_count": 30,
   "id": "cc325b00-c74a-44f5-8bac-4a3428513b96",
   "metadata": {},
   "outputs": [
    {
     "data": {
      "text/html": [
       "<div>\n",
       "<style scoped>\n",
       "    .dataframe tbody tr th:only-of-type {\n",
       "        vertical-align: middle;\n",
       "    }\n",
       "\n",
       "    .dataframe tbody tr th {\n",
       "        vertical-align: top;\n",
       "    }\n",
       "\n",
       "    .dataframe thead th {\n",
       "        text-align: right;\n",
       "    }\n",
       "</style>\n",
       "<table border=\"1\" class=\"dataframe\">\n",
       "  <thead>\n",
       "    <tr style=\"text-align: right;\">\n",
       "      <th></th>\n",
       "      <th>Battery Electric Vehicles (BEVs)</th>\n",
       "      <th>Plug-In Hybrid Electric Vehicles (PHEVs)</th>\n",
       "      <th>Electric Vehicle (EV) Total</th>\n",
       "      <th>Non-Electric Vehicle Total</th>\n",
       "      <th>Total Vehicles</th>\n",
       "      <th>Percent Electric Vehicles</th>\n",
       "    </tr>\n",
       "  </thead>\n",
       "  <tbody>\n",
       "    <tr>\n",
       "      <th>count</th>\n",
       "      <td>20733.000000</td>\n",
       "      <td>20733.000000</td>\n",
       "      <td>20733.000000</td>\n",
       "      <td>2.073300e+04</td>\n",
       "      <td>2.073300e+04</td>\n",
       "      <td>20733.000000</td>\n",
       "    </tr>\n",
       "    <tr>\n",
       "      <th>mean</th>\n",
       "      <td>218.400473</td>\n",
       "      <td>80.391164</td>\n",
       "      <td>298.791637</td>\n",
       "      <td>2.520065e+04</td>\n",
       "      <td>2.549944e+04</td>\n",
       "      <td>4.150036</td>\n",
       "    </tr>\n",
       "    <tr>\n",
       "      <th>std</th>\n",
       "      <td>2283.212851</td>\n",
       "      <td>647.692406</td>\n",
       "      <td>2921.484707</td>\n",
       "      <td>1.069417e+05</td>\n",
       "      <td>1.093000e+05</td>\n",
       "      <td>11.076931</td>\n",
       "    </tr>\n",
       "    <tr>\n",
       "      <th>min</th>\n",
       "      <td>0.000000</td>\n",
       "      <td>0.000000</td>\n",
       "      <td>0.000000</td>\n",
       "      <td>0.000000e+00</td>\n",
       "      <td>1.000000e+00</td>\n",
       "      <td>0.000000</td>\n",
       "    </tr>\n",
       "    <tr>\n",
       "      <th>25%</th>\n",
       "      <td>0.000000</td>\n",
       "      <td>0.000000</td>\n",
       "      <td>1.000000</td>\n",
       "      <td>4.300000e+01</td>\n",
       "      <td>4.400000e+01</td>\n",
       "      <td>0.390000</td>\n",
       "    </tr>\n",
       "    <tr>\n",
       "      <th>50%</th>\n",
       "      <td>1.000000</td>\n",
       "      <td>1.000000</td>\n",
       "      <td>1.000000</td>\n",
       "      <td>1.600000e+02</td>\n",
       "      <td>1.630000e+02</td>\n",
       "      <td>1.220000</td>\n",
       "    </tr>\n",
       "    <tr>\n",
       "      <th>75%</th>\n",
       "      <td>3.000000</td>\n",
       "      <td>2.000000</td>\n",
       "      <td>4.000000</td>\n",
       "      <td>8.475000e+03</td>\n",
       "      <td>8.488000e+03</td>\n",
       "      <td>3.030000</td>\n",
       "    </tr>\n",
       "    <tr>\n",
       "      <th>max</th>\n",
       "      <td>72333.000000</td>\n",
       "      <td>17501.000000</td>\n",
       "      <td>89834.000000</td>\n",
       "      <td>1.399823e+06</td>\n",
       "      <td>1.430937e+06</td>\n",
       "      <td>100.000000</td>\n",
       "    </tr>\n",
       "  </tbody>\n",
       "</table>\n",
       "</div>"
      ],
      "text/plain": [
       "       Battery Electric Vehicles (BEVs)  \\\n",
       "count                      20733.000000   \n",
       "mean                         218.400473   \n",
       "std                         2283.212851   \n",
       "min                            0.000000   \n",
       "25%                            0.000000   \n",
       "50%                            1.000000   \n",
       "75%                            3.000000   \n",
       "max                        72333.000000   \n",
       "\n",
       "       Plug-In Hybrid Electric Vehicles (PHEVs)  Electric Vehicle (EV) Total  \\\n",
       "count                              20733.000000                 20733.000000   \n",
       "mean                                  80.391164                   298.791637   \n",
       "std                                  647.692406                  2921.484707   \n",
       "min                                    0.000000                     0.000000   \n",
       "25%                                    0.000000                     1.000000   \n",
       "50%                                    1.000000                     1.000000   \n",
       "75%                                    2.000000                     4.000000   \n",
       "max                                17501.000000                 89834.000000   \n",
       "\n",
       "       Non-Electric Vehicle Total  Total Vehicles  Percent Electric Vehicles  \n",
       "count                2.073300e+04    2.073300e+04               20733.000000  \n",
       "mean                 2.520065e+04    2.549944e+04                   4.150036  \n",
       "std                  1.069417e+05    1.093000e+05                  11.076931  \n",
       "min                  0.000000e+00    1.000000e+00                   0.000000  \n",
       "25%                  4.300000e+01    4.400000e+01                   0.390000  \n",
       "50%                  1.600000e+02    1.630000e+02                   1.220000  \n",
       "75%                  8.475000e+03    8.488000e+03                   3.030000  \n",
       "max                  1.399823e+06    1.430937e+06                 100.000000  "
      ]
     },
     "execution_count": 30,
     "metadata": {},
     "output_type": "execute_result"
    }
   ],
   "source": [
    "#dataset Statistics\n",
    "df.describe()"
   ]
  },
  {
   "cell_type": "code",
   "execution_count": 35,
   "id": "f762f1c2-7a90-4693-9072-112b94a0faaf",
   "metadata": {},
   "outputs": [
    {
     "name": "stdout",
     "output_type": "stream",
     "text": [
      "Empty DataFrame\n",
      "Columns: [Date, County, State, Vehicle Primary Use, Battery Electric Vehicles (BEVs), Plug-In Hybrid Electric Vehicles (PHEVs), Electric Vehicle (EV) Total, Non-Electric Vehicle Total, Total Vehicles, Percent Electric Vehicles]\n",
      "Index: []\n"
     ]
    }
   ],
   "source": [
    "#Check Duplicate\n",
    "duplicate_rows = df.duplicated()\n",
    "print(df[duplicate_rows])"
   ]
  },
  {
   "cell_type": "code",
   "execution_count": 46,
   "id": "1bd49b86-883e-4afe-8ca7-469859ce070e",
   "metadata": {},
   "outputs": [
    {
     "data": {
      "text/html": [
       "<div>\n",
       "<style scoped>\n",
       "    .dataframe tbody tr th:only-of-type {\n",
       "        vertical-align: middle;\n",
       "    }\n",
       "\n",
       "    .dataframe tbody tr th {\n",
       "        vertical-align: top;\n",
       "    }\n",
       "\n",
       "    .dataframe thead th {\n",
       "        text-align: right;\n",
       "    }\n",
       "</style>\n",
       "<table border=\"1\" class=\"dataframe\">\n",
       "  <thead>\n",
       "    <tr style=\"text-align: right;\">\n",
       "      <th></th>\n",
       "      <th>Date</th>\n",
       "      <th>County</th>\n",
       "      <th>State</th>\n",
       "      <th>Vehicle Primary Use</th>\n",
       "      <th>Battery Electric Vehicles (BEVs)</th>\n",
       "      <th>Plug-In Hybrid Electric Vehicles (PHEVs)</th>\n",
       "      <th>Electric Vehicle (EV) Total</th>\n",
       "      <th>Non-Electric Vehicle Total</th>\n",
       "      <th>Total Vehicles</th>\n",
       "      <th>Percent Electric Vehicles</th>\n",
       "      <th>Year</th>\n",
       "      <th>Month</th>\n",
       "    </tr>\n",
       "  </thead>\n",
       "  <tbody>\n",
       "    <tr>\n",
       "      <th>0</th>\n",
       "      <td>September 30 2022</td>\n",
       "      <td>Riverside</td>\n",
       "      <td>CA</td>\n",
       "      <td>Passenger</td>\n",
       "      <td>7.0</td>\n",
       "      <td>0.0</td>\n",
       "      <td>7.0</td>\n",
       "      <td>460.0</td>\n",
       "      <td>467.0</td>\n",
       "      <td>1.50</td>\n",
       "      <td>2022</td>\n",
       "      <td>September</td>\n",
       "    </tr>\n",
       "    <tr>\n",
       "      <th>1</th>\n",
       "      <td>December 31 2022</td>\n",
       "      <td>Prince William</td>\n",
       "      <td>VA</td>\n",
       "      <td>Passenger</td>\n",
       "      <td>1.0</td>\n",
       "      <td>2.0</td>\n",
       "      <td>3.0</td>\n",
       "      <td>188.0</td>\n",
       "      <td>191.0</td>\n",
       "      <td>1.57</td>\n",
       "      <td>2022</td>\n",
       "      <td>December</td>\n",
       "    </tr>\n",
       "    <tr>\n",
       "      <th>2</th>\n",
       "      <td>January 31 2020</td>\n",
       "      <td>Dakota</td>\n",
       "      <td>MN</td>\n",
       "      <td>Passenger</td>\n",
       "      <td>0.0</td>\n",
       "      <td>1.0</td>\n",
       "      <td>1.0</td>\n",
       "      <td>32.0</td>\n",
       "      <td>33.0</td>\n",
       "      <td>3.03</td>\n",
       "      <td>2020</td>\n",
       "      <td>January</td>\n",
       "    </tr>\n",
       "    <tr>\n",
       "      <th>3</th>\n",
       "      <td>June 30 2022</td>\n",
       "      <td>Ferry</td>\n",
       "      <td>WA</td>\n",
       "      <td>Truck</td>\n",
       "      <td>0.0</td>\n",
       "      <td>0.0</td>\n",
       "      <td>0.0</td>\n",
       "      <td>3575.0</td>\n",
       "      <td>3575.0</td>\n",
       "      <td>0.00</td>\n",
       "      <td>2022</td>\n",
       "      <td>June</td>\n",
       "    </tr>\n",
       "    <tr>\n",
       "      <th>4</th>\n",
       "      <td>July 31 2021</td>\n",
       "      <td>Douglas</td>\n",
       "      <td>CO</td>\n",
       "      <td>Passenger</td>\n",
       "      <td>0.0</td>\n",
       "      <td>1.0</td>\n",
       "      <td>1.0</td>\n",
       "      <td>83.0</td>\n",
       "      <td>84.0</td>\n",
       "      <td>1.19</td>\n",
       "      <td>2021</td>\n",
       "      <td>July</td>\n",
       "    </tr>\n",
       "  </tbody>\n",
       "</table>\n",
       "</div>"
      ],
      "text/plain": [
       "                Date          County State Vehicle Primary Use  \\\n",
       "0  September 30 2022       Riverside    CA           Passenger   \n",
       "1   December 31 2022  Prince William    VA           Passenger   \n",
       "2    January 31 2020          Dakota    MN           Passenger   \n",
       "3       June 30 2022           Ferry    WA               Truck   \n",
       "4       July 31 2021         Douglas    CO           Passenger   \n",
       "\n",
       "   Battery Electric Vehicles (BEVs)  Plug-In Hybrid Electric Vehicles (PHEVs)  \\\n",
       "0                               7.0                                       0.0   \n",
       "1                               1.0                                       2.0   \n",
       "2                               0.0                                       1.0   \n",
       "3                               0.0                                       0.0   \n",
       "4                               0.0                                       1.0   \n",
       "\n",
       "   Electric Vehicle (EV) Total  Non-Electric Vehicle Total  Total Vehicles  \\\n",
       "0                          7.0                       460.0           467.0   \n",
       "1                          3.0                       188.0           191.0   \n",
       "2                          1.0                        32.0            33.0   \n",
       "3                          0.0                      3575.0          3575.0   \n",
       "4                          1.0                        83.0            84.0   \n",
       "\n",
       "   Percent Electric Vehicles  Year      Month  \n",
       "0                       1.50  2022  September  \n",
       "1                       1.57  2022   December  \n",
       "2                       3.03  2020    January  \n",
       "3                       0.00  2022       June  \n",
       "4                       1.19  2021       July  "
      ]
     },
     "execution_count": 46,
     "metadata": {},
     "output_type": "execute_result"
    }
   ],
   "source": [
    "#Segregating Year and Month Column\n",
    "df['Year']=df['Date'].str[-4:]\n",
    "df['Month']=df['Date'].str.split(' ').str[0]\n",
    "df.head()"
   ]
  },
  {
   "cell_type": "code",
   "execution_count": 49,
   "id": "6ff9c9f6-23b9-4be1-b1e1-a20660d65e96",
   "metadata": {},
   "outputs": [
    {
     "data": {
      "text/html": [
       "<div>\n",
       "<style scoped>\n",
       "    .dataframe tbody tr th:only-of-type {\n",
       "        vertical-align: middle;\n",
       "    }\n",
       "\n",
       "    .dataframe tbody tr th {\n",
       "        vertical-align: top;\n",
       "    }\n",
       "\n",
       "    .dataframe thead th {\n",
       "        text-align: right;\n",
       "    }\n",
       "</style>\n",
       "<table border=\"1\" class=\"dataframe\">\n",
       "  <thead>\n",
       "    <tr style=\"text-align: right;\">\n",
       "      <th></th>\n",
       "      <th>Date</th>\n",
       "      <th>City</th>\n",
       "      <th>State</th>\n",
       "      <th>Vehicle Primary Use</th>\n",
       "      <th>Battery Electric Vehicles (BEVs)</th>\n",
       "      <th>Plug-In Hybrid Electric Vehicles (PHEVs)</th>\n",
       "      <th>Electric Vehicle (EV) Total</th>\n",
       "      <th>Non-Electric Vehicle Total</th>\n",
       "      <th>Total Vehicles</th>\n",
       "      <th>Percent Electric Vehicles</th>\n",
       "      <th>Year</th>\n",
       "      <th>Month</th>\n",
       "    </tr>\n",
       "  </thead>\n",
       "  <tbody>\n",
       "    <tr>\n",
       "      <th>0</th>\n",
       "      <td>September 30 2022</td>\n",
       "      <td>Riverside</td>\n",
       "      <td>CA</td>\n",
       "      <td>Passenger</td>\n",
       "      <td>7.0</td>\n",
       "      <td>0.0</td>\n",
       "      <td>7.0</td>\n",
       "      <td>460.0</td>\n",
       "      <td>467.0</td>\n",
       "      <td>1.50</td>\n",
       "      <td>2022</td>\n",
       "      <td>September</td>\n",
       "    </tr>\n",
       "    <tr>\n",
       "      <th>1</th>\n",
       "      <td>December 31 2022</td>\n",
       "      <td>Prince William</td>\n",
       "      <td>VA</td>\n",
       "      <td>Passenger</td>\n",
       "      <td>1.0</td>\n",
       "      <td>2.0</td>\n",
       "      <td>3.0</td>\n",
       "      <td>188.0</td>\n",
       "      <td>191.0</td>\n",
       "      <td>1.57</td>\n",
       "      <td>2022</td>\n",
       "      <td>December</td>\n",
       "    </tr>\n",
       "    <tr>\n",
       "      <th>2</th>\n",
       "      <td>January 31 2020</td>\n",
       "      <td>Dakota</td>\n",
       "      <td>MN</td>\n",
       "      <td>Passenger</td>\n",
       "      <td>0.0</td>\n",
       "      <td>1.0</td>\n",
       "      <td>1.0</td>\n",
       "      <td>32.0</td>\n",
       "      <td>33.0</td>\n",
       "      <td>3.03</td>\n",
       "      <td>2020</td>\n",
       "      <td>January</td>\n",
       "    </tr>\n",
       "    <tr>\n",
       "      <th>3</th>\n",
       "      <td>June 30 2022</td>\n",
       "      <td>Ferry</td>\n",
       "      <td>WA</td>\n",
       "      <td>Truck</td>\n",
       "      <td>0.0</td>\n",
       "      <td>0.0</td>\n",
       "      <td>0.0</td>\n",
       "      <td>3575.0</td>\n",
       "      <td>3575.0</td>\n",
       "      <td>0.00</td>\n",
       "      <td>2022</td>\n",
       "      <td>June</td>\n",
       "    </tr>\n",
       "    <tr>\n",
       "      <th>4</th>\n",
       "      <td>July 31 2021</td>\n",
       "      <td>Douglas</td>\n",
       "      <td>CO</td>\n",
       "      <td>Passenger</td>\n",
       "      <td>0.0</td>\n",
       "      <td>1.0</td>\n",
       "      <td>1.0</td>\n",
       "      <td>83.0</td>\n",
       "      <td>84.0</td>\n",
       "      <td>1.19</td>\n",
       "      <td>2021</td>\n",
       "      <td>July</td>\n",
       "    </tr>\n",
       "  </tbody>\n",
       "</table>\n",
       "</div>"
      ],
      "text/plain": [
       "                Date            City State Vehicle Primary Use  \\\n",
       "0  September 30 2022       Riverside    CA           Passenger   \n",
       "1   December 31 2022  Prince William    VA           Passenger   \n",
       "2    January 31 2020          Dakota    MN           Passenger   \n",
       "3       June 30 2022           Ferry    WA               Truck   \n",
       "4       July 31 2021         Douglas    CO           Passenger   \n",
       "\n",
       "   Battery Electric Vehicles (BEVs)  Plug-In Hybrid Electric Vehicles (PHEVs)  \\\n",
       "0                               7.0                                       0.0   \n",
       "1                               1.0                                       2.0   \n",
       "2                               0.0                                       1.0   \n",
       "3                               0.0                                       0.0   \n",
       "4                               0.0                                       1.0   \n",
       "\n",
       "   Electric Vehicle (EV) Total  Non-Electric Vehicle Total  Total Vehicles  \\\n",
       "0                          7.0                       460.0           467.0   \n",
       "1                          3.0                       188.0           191.0   \n",
       "2                          1.0                        32.0            33.0   \n",
       "3                          0.0                      3575.0          3575.0   \n",
       "4                          1.0                        83.0            84.0   \n",
       "\n",
       "   Percent Electric Vehicles  Year      Month  \n",
       "0                       1.50  2022  September  \n",
       "1                       1.57  2022   December  \n",
       "2                       3.03  2020    January  \n",
       "3                       0.00  2022       June  \n",
       "4                       1.19  2021       July  "
      ]
     },
     "execution_count": 49,
     "metadata": {},
     "output_type": "execute_result"
    }
   ],
   "source": [
    "# Renaming the State column header\n",
    "df.rename(columns={'County': 'City'}, inplace=True)\n",
    "df.head()"
   ]
  },
  {
   "cell_type": "markdown",
   "id": "f5cc3358-0d51-407a-aefe-5fc23f2c38c0",
   "metadata": {},
   "source": [
    "# Top 10 States with most vehicles"
   ]
  },
  {
   "cell_type": "code",
   "execution_count": 62,
   "id": "a041a6ae-92b0-4352-b2a9-a03e0b197a9c",
   "metadata": {},
   "outputs": [
    {
     "data": {
      "text/plain": [
       "State\n",
       "CA    626762.0\n",
       "VA    247289.0\n",
       "TX    186107.0\n",
       "AZ    157198.0\n",
       "OR    120144.0\n",
       "MD    106305.0\n",
       "FL    101112.0\n",
       "CO     81570.0\n",
       "NC     69717.0\n",
       "NV     60725.0\n",
       "Name: Total Vehicles, dtype: float64"
      ]
     },
     "execution_count": 62,
     "metadata": {},
     "output_type": "execute_result"
    }
   ],
   "source": [
    "#excluding washington data for too high value\n",
    "filtered_df = df[df['State'] != 'WA']\n",
    "\n",
    "df1 = filtered_df.groupby('State')['Total Vehicles'].sum().sort_values(ascending = False).head(10)\n",
    "df1"
   ]
  },
  {
   "cell_type": "code",
   "execution_count": 54,
   "id": "c2afc697-6552-4ae2-9be9-6868caa8ae9c",
   "metadata": {},
   "outputs": [],
   "source": [
    "sns.set()"
   ]
  },
  {
   "cell_type": "code",
   "execution_count": 67,
   "id": "fcaec501-d4be-4d31-bf5f-20741489179b",
   "metadata": {},
   "outputs": [
    {
     "data": {
      "image/png": "[encoded data removed]",
      "text/plain": [
       "<Figure size 640x480 with 1 Axes>"
      ]
     },
     "metadata": {},
     "output_type": "display_data"
    }
   ],
   "source": [
    "sns.barplot(x  = df1.index,y=df1.values)\n",
    "plt.ylabel('Total Vehicles')\n",
    "plt.show()"
   ]
  },
  {
   "cell_type": "markdown",
   "id": "e8c7aa37-de17-4f8c-b8fc-5adbf1bbbbea",
   "metadata": {},
   "source": [
    "# Year wise Vehicles registered"
   ]
  },
  {
   "cell_type": "code",
   "execution_count": 71,
   "id": "ead1e17a-16a6-471a-aec8-c1f10f753ee6",
   "metadata": {},
   "outputs": [
    {
     "data": {
      "text/plain": [
       "Year\n",
       "2017    71648609.0\n",
       "2018    72768433.0\n",
       "2019    74122131.0\n",
       "2020    74592015.0\n",
       "2021    75173700.0\n",
       "2022    74534741.0\n",
       "2023    73829024.0\n",
       "2024    12011299.0\n",
       "Name: Total Vehicles, dtype: float64"
      ]
     },
     "execution_count": 71,
     "metadata": {},
     "output_type": "execute_result"
    }
   ],
   "source": [
    "df2 = df.groupby('Year')['Total Vehicles'].sum()\n",
    "df2"
   ]
  },
  {
   "cell_type": "code",
   "execution_count": 74,
   "id": "c5310ac7-7b3d-4486-b105-0ee44a0d97cb",
   "metadata": {},
   "outputs": [
    {
     "data": {
      "image/png": "[encoded data removed]",
      "text/plain": [
       "<Figure size 640x480 with 1 Axes>"
      ]
     },
     "metadata": {},
     "output_type": "display_data"
    }
   ],
   "source": [
    "df2.plot()\n",
    "plt.show()"
   ]
  },
  {
   "cell_type": "markdown",
   "id": "09affdf9-c14b-4335-9e24-980ee5d24942",
   "metadata": {},
   "source": [
    "# Top 5 cities with highest EVs"
   ]
  },
  {
   "cell_type": "code",
   "execution_count": 79,
   "id": "1b4346e8-739c-47c0-9dd3-630ea3dafb5a",
   "metadata": {},
   "outputs": [
    {
     "data": {
      "text/plain": [
       "City\n",
       "King         3309850.0\n",
       "Snohomish     683598.0\n",
       "Pierce        456003.0\n",
       "Clark         351317.0\n",
       "Kitsap        214711.0\n",
       "Name: Electric Vehicle (EV) Total, dtype: float64"
      ]
     },
     "execution_count": 79,
     "metadata": {},
     "output_type": "execute_result"
    }
   ],
   "source": [
    "df3 = df.groupby('City')['Electric Vehicle (EV) Total'].sum().sort_values(ascending = False).head(5)\n",
    "df3"
   ]
  },
  {
   "cell_type": "code",
   "execution_count": 81,
   "id": "d2d790ea-3f83-4cbf-a769-0cdf4cf946b6",
   "metadata": {},
   "outputs": [
    {
     "data": {
      "image/png": "[encoded data removed]",
      "text/plain": [
       "<Figure size 640x480 with 1 Axes>"
      ]
     },
     "metadata": {},
     "output_type": "display_data"
    }
   ],
   "source": [
    "df3.plot(kind=  'barh')\n",
    "plt.title('Top 5 cities with highest EVs')\n",
    "plt.show()"
   ]
  },
  {
   "cell_type": "markdown",
   "id": "94dff4e6-3de1-4c54-bf1d-8dca4c22dbd5",
   "metadata": {},
   "source": [
    "# Vehicle Primary Use"
   ]
  },
  {
   "cell_type": "code",
   "execution_count": 84,
   "id": "f09f9367-ab7c-428a-a8b0-5fc4c0206ce8",
   "metadata": {},
   "outputs": [
    {
     "data": {
      "text/plain": [
       "Vehicle Primary Use\n",
       "Passenger    17291\n",
       "Truck         3442\n",
       "Name: count, dtype: int64"
      ]
     },
     "execution_count": 84,
     "metadata": {},
     "output_type": "execute_result"
    }
   ],
   "source": [
    "df4 = df['Vehicle Primary Use'].value_counts()\n",
    "df4"
   ]
  },
  {
   "cell_type": "code",
   "execution_count": 88,
   "id": "7ea4b588-8198-4370-98b7-f6ed1cdef1b9",
   "metadata": {},
   "outputs": [
    {
     "data": {
      "image/png": "[encoded data removed]",
      "text/plain": [
       "<Figure size 640x480 with 1 Axes>"
      ]
     },
     "metadata": {},
     "output_type": "display_data"
    }
   ],
   "source": [
    "df4.plot(kind = 'pie', autopct = '%1.2f%%')\n",
    "plt.ylabel(None)\n",
    "plt.title('Vehicle Primary Use distribution')\n",
    "plt.show()"
   ]
  },
  {
   "cell_type": "markdown",
   "id": "928cab16-b1ca-455b-b362-0fa256f778b9",
   "metadata": {},
   "source": [
    "# Electric Vehicle (EV) Total\tNon-Electric Vehicle Total"
   ]
  },
  {
   "cell_type": "code",
   "execution_count": 90,
   "id": "af464ae2-616f-4a79-ac26-f4092a88a937",
   "metadata": {},
   "outputs": [
    {
     "data": {
      "text/html": [
       "<div>\n",
       "<style scoped>\n",
       "    .dataframe tbody tr th:only-of-type {\n",
       "        vertical-align: middle;\n",
       "    }\n",
       "\n",
       "    .dataframe tbody tr th {\n",
       "        vertical-align: top;\n",
       "    }\n",
       "\n",
       "    .dataframe thead th {\n",
       "        text-align: right;\n",
       "    }\n",
       "</style>\n",
       "<table border=\"1\" class=\"dataframe\">\n",
       "  <thead>\n",
       "    <tr style=\"text-align: right;\">\n",
       "      <th></th>\n",
       "      <th>Electric Vehicle (EV) Total</th>\n",
       "      <th>Non-Electric Vehicle Total</th>\n",
       "    </tr>\n",
       "  </thead>\n",
       "  <tbody>\n",
       "    <tr>\n",
       "      <th>0</th>\n",
       "      <td>7.0</td>\n",
       "      <td>460.0</td>\n",
       "    </tr>\n",
       "    <tr>\n",
       "      <th>1</th>\n",
       "      <td>3.0</td>\n",
       "      <td>188.0</td>\n",
       "    </tr>\n",
       "    <tr>\n",
       "      <th>2</th>\n",
       "      <td>1.0</td>\n",
       "      <td>32.0</td>\n",
       "    </tr>\n",
       "    <tr>\n",
       "      <th>3</th>\n",
       "      <td>0.0</td>\n",
       "      <td>3575.0</td>\n",
       "    </tr>\n",
       "    <tr>\n",
       "      <th>4</th>\n",
       "      <td>1.0</td>\n",
       "      <td>83.0</td>\n",
       "    </tr>\n",
       "    <tr>\n",
       "      <th>...</th>\n",
       "      <td>...</td>\n",
       "      <td>...</td>\n",
       "    </tr>\n",
       "    <tr>\n",
       "      <th>20814</th>\n",
       "      <td>1.0</td>\n",
       "      <td>14.0</td>\n",
       "    </tr>\n",
       "    <tr>\n",
       "      <th>20815</th>\n",
       "      <td>1.0</td>\n",
       "      <td>10.0</td>\n",
       "    </tr>\n",
       "    <tr>\n",
       "      <th>20816</th>\n",
       "      <td>1094.0</td>\n",
       "      <td>62257.0</td>\n",
       "    </tr>\n",
       "    <tr>\n",
       "      <th>20817</th>\n",
       "      <td>16.0</td>\n",
       "      <td>2724.0</td>\n",
       "    </tr>\n",
       "    <tr>\n",
       "      <th>20818</th>\n",
       "      <td>4.0</td>\n",
       "      <td>271.0</td>\n",
       "    </tr>\n",
       "  </tbody>\n",
       "</table>\n",
       "<p>20733 rows × 2 columns</p>\n",
       "</div>"
      ],
      "text/plain": [
       "       Electric Vehicle (EV) Total  Non-Electric Vehicle Total\n",
       "0                              7.0                       460.0\n",
       "1                              3.0                       188.0\n",
       "2                              1.0                        32.0\n",
       "3                              0.0                      3575.0\n",
       "4                              1.0                        83.0\n",
       "...                            ...                         ...\n",
       "20814                          1.0                        14.0\n",
       "20815                          1.0                        10.0\n",
       "20816                       1094.0                     62257.0\n",
       "20817                         16.0                      2724.0\n",
       "20818                          4.0                       271.0\n",
       "\n",
       "[20733 rows x 2 columns]"
      ]
     },
     "execution_count": 90,
     "metadata": {},
     "output_type": "execute_result"
    }
   ],
   "source": [
    "df[['Electric Vehicle (EV) Total','Non-Electric Vehicle Total']]"
   ]
  },
  {
   "cell_type": "code",
   "execution_count": 100,
   "id": "ecfa47b3-b746-46ee-8cfb-6928a81f0ccf",
   "metadata": {},
   "outputs": [],
   "source": [
    "#Total\n",
    "ev_total_sum = df['Electric Vehicle (EV) Total'].sum()\n",
    "non_ev_total_sum = df['Non-Electric Vehicle Total'].sum()"
   ]
  },
  {
   "cell_type": "code",
   "execution_count": 114,
   "id": "5df426f5-0782-4d91-b0d4-2485b726024d",
   "metadata": {},
   "outputs": [
    {
     "data": {
      "image/png": "[encoded data removed]",
      "text/plain": [
       "<Figure size 500x600 with 1 Axes>"
      ]
     },
     "metadata": {},
     "output_type": "display_data"
    }
   ],
   "source": [
    "total_distribution = pd.DataFrame({\n",
    "    'Vehicle Type': ['EV', 'Non-EV'],\n",
    "    'Total Sum': [ev_total_sum, non_ev_total_sum]\n",
    "})\n",
    "total_distribution.plot.pie(y='Total Sum', labels=total_distribution['Vehicle Type'], autopct='%1.2f%%', startangle=90, figsize=(5 , 6))\n",
    "plt.title('Total Distribution between EV and Non-EV Vehicles')\n",
    "plt.ylabel(None)\n",
    "plt.show()"
   ]
  },
  {
   "cell_type": "markdown",
   "id": "ef59c9df-9981-4583-aaec-dfd066f0bae0",
   "metadata": {},
   "source": [
    "# Electric Vehicle (EV) % distribution"
   ]
  },
  {
   "cell_type": "code",
   "execution_count": 140,
   "id": "d3f16237-7d01-402d-901a-7cc82ed5a817",
   "metadata": {},
   "outputs": [
    {
     "data": {
      "image/png": "[encoded data removed]",
      "text/plain": [
       "<Figure size 640x480 with 1 Axes>"
      ]
     },
     "metadata": {},
     "output_type": "display_data"
    }
   ],
   "source": [
    "sns.distplot(df['Percent Electric Vehicles'])\n",
    "plt.show()"
   ]
  },
  {
   "cell_type": "markdown",
   "id": "e200ffb3-614d-4ef9-b210-8a38dcda5467",
   "metadata": {},
   "source": [
    "# Distribution between Battery Electric Vehicles (BEVs)\tPlug-In Hybrid Electric Vehicles (PHEVs)"
   ]
  },
  {
   "cell_type": "code",
   "execution_count": 143,
   "id": "fd037a58-7149-416e-abe8-f4d097668a2e",
   "metadata": {},
   "outputs": [
    {
     "data": {
      "text/html": [
       "<div>\n",
       "<style scoped>\n",
       "    .dataframe tbody tr th:only-of-type {\n",
       "        vertical-align: middle;\n",
       "    }\n",
       "\n",
       "    .dataframe tbody tr th {\n",
       "        vertical-align: top;\n",
       "    }\n",
       "\n",
       "    .dataframe thead th {\n",
       "        text-align: right;\n",
       "    }\n",
       "</style>\n",
       "<table border=\"1\" class=\"dataframe\">\n",
       "  <thead>\n",
       "    <tr style=\"text-align: right;\">\n",
       "      <th></th>\n",
       "      <th>Battery Electric Vehicles (BEVs)</th>\n",
       "      <th>Plug-In Hybrid Electric Vehicles (PHEVs)</th>\n",
       "    </tr>\n",
       "  </thead>\n",
       "  <tbody>\n",
       "    <tr>\n",
       "      <th>0</th>\n",
       "      <td>7.0</td>\n",
       "      <td>0.0</td>\n",
       "    </tr>\n",
       "    <tr>\n",
       "      <th>1</th>\n",
       "      <td>1.0</td>\n",
       "      <td>2.0</td>\n",
       "    </tr>\n",
       "    <tr>\n",
       "      <th>2</th>\n",
       "      <td>0.0</td>\n",
       "      <td>1.0</td>\n",
       "    </tr>\n",
       "    <tr>\n",
       "      <th>3</th>\n",
       "      <td>0.0</td>\n",
       "      <td>0.0</td>\n",
       "    </tr>\n",
       "    <tr>\n",
       "      <th>4</th>\n",
       "      <td>0.0</td>\n",
       "      <td>1.0</td>\n",
       "    </tr>\n",
       "    <tr>\n",
       "      <th>...</th>\n",
       "      <td>...</td>\n",
       "      <td>...</td>\n",
       "    </tr>\n",
       "    <tr>\n",
       "      <th>20814</th>\n",
       "      <td>1.0</td>\n",
       "      <td>0.0</td>\n",
       "    </tr>\n",
       "    <tr>\n",
       "      <th>20815</th>\n",
       "      <td>1.0</td>\n",
       "      <td>0.0</td>\n",
       "    </tr>\n",
       "    <tr>\n",
       "      <th>20816</th>\n",
       "      <td>744.0</td>\n",
       "      <td>350.0</td>\n",
       "    </tr>\n",
       "    <tr>\n",
       "      <th>20817</th>\n",
       "      <td>14.0</td>\n",
       "      <td>2.0</td>\n",
       "    </tr>\n",
       "    <tr>\n",
       "      <th>20818</th>\n",
       "      <td>3.0</td>\n",
       "      <td>1.0</td>\n",
       "    </tr>\n",
       "  </tbody>\n",
       "</table>\n",
       "<p>20733 rows × 2 columns</p>\n",
       "</div>"
      ],
      "text/plain": [
       "       Battery Electric Vehicles (BEVs)  \\\n",
       "0                                   7.0   \n",
       "1                                   1.0   \n",
       "2                                   0.0   \n",
       "3                                   0.0   \n",
       "4                                   0.0   \n",
       "...                                 ...   \n",
       "20814                               1.0   \n",
       "20815                               1.0   \n",
       "20816                             744.0   \n",
       "20817                              14.0   \n",
       "20818                               3.0   \n",
       "\n",
       "       Plug-In Hybrid Electric Vehicles (PHEVs)  \n",
       "0                                           0.0  \n",
       "1                                           2.0  \n",
       "2                                           1.0  \n",
       "3                                           0.0  \n",
       "4                                           1.0  \n",
       "...                                         ...  \n",
       "20814                                       0.0  \n",
       "20815                                       0.0  \n",
       "20816                                     350.0  \n",
       "20817                                       2.0  \n",
       "20818                                       1.0  \n",
       "\n",
       "[20733 rows x 2 columns]"
      ]
     },
     "execution_count": 143,
     "metadata": {},
     "output_type": "execute_result"
    }
   ],
   "source": [
    "df[['Battery Electric Vehicles (BEVs)','Plug-In Hybrid Electric Vehicles (PHEVs)']]"
   ]
  },
  {
   "cell_type": "code",
   "execution_count": 144,
   "id": "2790bc29-f9ec-4747-be2f-b6c940588c5a",
   "metadata": {},
   "outputs": [],
   "source": [
    "#Total\n",
    "BEV = df['Battery Electric Vehicles (BEVs)'].sum()\n",
    "PHEV = df['Plug-In Hybrid Electric Vehicles (PHEVs)'].sum()"
   ]
  },
  {
   "cell_type": "code",
   "execution_count": 147,
   "id": "aae3207b-8cf4-485b-8329-85b58de799be",
   "metadata": {},
   "outputs": [
    {
     "data": {
      "text/html": [
       "<div>\n",
       "<style scoped>\n",
       "    .dataframe tbody tr th:only-of-type {\n",
       "        vertical-align: middle;\n",
       "    }\n",
       "\n",
       "    .dataframe tbody tr th {\n",
       "        vertical-align: top;\n",
       "    }\n",
       "\n",
       "    .dataframe thead th {\n",
       "        text-align: right;\n",
       "    }\n",
       "</style>\n",
       "<table border=\"1\" class=\"dataframe\">\n",
       "  <thead>\n",
       "    <tr style=\"text-align: right;\">\n",
       "      <th></th>\n",
       "      <th>EV Type</th>\n",
       "      <th>Total Sum</th>\n",
       "    </tr>\n",
       "  </thead>\n",
       "  <tbody>\n",
       "    <tr>\n",
       "      <th>0</th>\n",
       "      <td>BEV</td>\n",
       "      <td>4528097.0</td>\n",
       "    </tr>\n",
       "    <tr>\n",
       "      <th>1</th>\n",
       "      <td>PHEV</td>\n",
       "      <td>1666750.0</td>\n",
       "    </tr>\n",
       "  </tbody>\n",
       "</table>\n",
       "</div>"
      ],
      "text/plain": [
       "  EV Type  Total Sum\n",
       "0     BEV  4528097.0\n",
       "1    PHEV  1666750.0"
      ]
     },
     "execution_count": 147,
     "metadata": {},
     "output_type": "execute_result"
    }
   ],
   "source": [
    "ev_dist = pd.DataFrame({\n",
    "    'EV Type': ['BEV', 'PHEV'],\n",
    "    'Total Sum': [BEV, PHEV]})\n",
    "\n",
    "ev_dist"
   ]
  },
  {
   "cell_type": "code",
   "execution_count": 155,
   "id": "62b670a9-9ff5-43ab-a3d4-2cc085a1da95",
   "metadata": {},
   "outputs": [
    {
     "data": {
      "image/png": "[encoded data removed]",
      "text/plain": [
       "<Figure size 640x480 with 1 Axes>"
      ]
     },
     "metadata": {},
     "output_type": "display_data"
    }
   ],
   "source": [
    "ax = sns.barplot(x ='EV Type', y='Total Sum', data = ev_dist )\n",
    "ax.ticklabel_format(style='plain', axis='y')\n",
    "plt.title('Distribution between Battery Electric Vehicles (BEVs) Plug-In Hybrid Electric Vehicles (PHEVs)')\n",
    "plt.show()"
   ]
  },
  {
   "cell_type": "code",
   "execution_count": null,
   "id": "d8018911-5329-4562-a3ec-624f6ab63a1a",
   "metadata": {},
   "outputs": [],
   "source": []
  }
 ],
 "metadata": {
  "kernelspec": {
   "display_name": "Python 3 (ipykernel)",
   "language": "python",
   "name": "python3"
  },
  "language_info": {
   "codemirror_mode": {
    "name": "ipython",
    "version": 3
   },
   "file_extension": ".py",
   "mimetype": "text/x-python",
   "name": "python",
   "nbconvert_exporter": "python",
   "pygments_lexer": "ipython3",
   "version": "3.11.7"
  }
 },
 "nbformat": 4,
 "nbformat_minor": 5
}
